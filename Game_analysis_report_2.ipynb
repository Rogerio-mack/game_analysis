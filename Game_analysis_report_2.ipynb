{
  "nbformat": 4,
  "nbformat_minor": 0,
  "metadata": {
    "colab": {
      "provenance": [],
      "authorship_tag": "ABX9TyPnbTqFdnLD1TbairfGh8g2",
      "include_colab_link": true
    },
    "kernelspec": {
      "name": "python3",
      "display_name": "Python 3"
    },
    "language_info": {
      "name": "python"
    }
  },
  "cells": [
    {
      "cell_type": "markdown",
      "metadata": {
        "id": "view-in-github",
        "colab_type": "text"
      },
      "source": [
        "<a href=\"https://colab.research.google.com/github/Rogerio-mack/game_analysis/blob/main/Game_analysis_report_2.ipynb\" target=\"_parent\"><img src=\"https://colab.research.google.com/assets/colab-badge.svg\" alt=\"Open In Colab\"/></a>"
      ]
    },
    {
      "cell_type": "markdown",
      "source": [
        "# **Game Analysis Results**"
      ],
      "metadata": {
        "id": "nWNrdifbhceA"
      }
    },
    {
      "cell_type": "markdown",
      "source": [
        "# Study hypotheses\n",
        "\n",
        "Three research questions were investigated in this study:\n",
        "\n",
        "1. Whether the interaction device influences the player's experience;\n",
        "2. Whether player performance impacts the gaming experience;\n",
        "3. Whether there is a difference between gender related to preference for the interaction device or challenge perception;\n",
        "4. Whether the gender influences the player's experience.\n",
        "\n",
        "Access complete code for these results [here](https://colab.research.google.com/github/Rogerio-mack/game_analysis/blob/main/Game_analysis_2.ipynb)."
      ],
      "metadata": {
        "id": "I5LBACZsJ3Dk"
      }
    },
    {
      "cell_type": "markdown",
      "source": [
        "# Scoring guidelines GEQ Post-game Module\n",
        "\n",
        "The post-game Module consists of four components; the items for each are listed below. Component **scores are computed as the average value of its items**.\n",
        "\n",
        "<br>\n",
        "\n",
        "$\\textbf{Post-game score items}\n",
        "\\\\\\begin{array}{llrr}\n",
        "\\hline\n",
        "            post\\_game &    score\\_items \\\\\n",
        "\\hline\n",
        "  Positive\\_Experience &     1, 5, 7, 8, 12, 16 \\\\\n",
        "  Negative\\_Experience &     2, 4, 6, 11, 14, 15 \\\\\n",
        "             Tiredness &     10, 13 \\\\\n",
        "             Returning\\_to\\_Reality &     3, 9, 17  \\\\\n",
        " \\hline\n",
        "\\end{array}$\n",
        "\n",
        "<br>\n"
      ],
      "metadata": {
        "id": "6AK21XtEKHsL"
      }
    },
    {
      "cell_type": "markdown",
      "source": [
        "# Score measures distribution\n",
        "\n",
        "$\\textbf{Post Game value distributions} \\\\\\begin{array}{llrr}\n",
        "\\hline\n",
        "            post\\_game &    device &     mean &      std \\\\\n",
        "\\hline\n",
        "  Positive\\_Experience &     skate & 3.428571 & 0.977762 \\\\\n",
        "  Positive\\_Experience &  joystick & 3.170068 & 1.227808 \\\\\n",
        "  Positive\\_Experience &  keyboard & 3.027211 & 1.163362 \\\\\n",
        "  Negative\\_Experience &     skate & 1.710884 & 0.456151 \\\\\n",
        "  Negative\\_Experience &  joystick & 1.357143 & 0.396746 \\\\\n",
        "  Negative\\_Experience &  keyboard & 1.289116 & 0.349893 \\\\\n",
        "            Tiredness &     skate & 1.173469 & 0.427578 \\\\\n",
        "            Tiredness &  joystick & 1.122449 & 0.462451 \\\\\n",
        "            Tiredness &  keyboard & 1.051020 & 0.210280 \\\\\n",
        " Returning\\_to\\_Reality &     skate & 2.068027 & 0.693821 \\\\\n",
        " Returning\\_to\\_Reality &  joystick & 1.619048 & 0.739119 \\\\\n",
        " Returning\\_to\\_Reality &  keyboard & 1.619048 & 0.700529 \\\\\n",
        "\\hline\n",
        "\\end{array}$\n",
        "\n",
        "<br>\n",
        "\n",
        "![imagem](https://github.com/Rogerio-mack/game_analysis/blob/main/post_game_scores.png?raw=true)\n",
        ""
      ],
      "metadata": {
        "id": "res4lq2zLbrL"
      }
    },
    {
      "cell_type": "markdown",
      "source": [
        "# 1. Whether the interaction device influences the player's experience\n",
        "\n",
        "**`ANOVA one-way method`** applied.\n",
        "\n",
        "There is evidence that device influences *Negative Experience* and *Return to Reality*."
      ],
      "metadata": {
        "id": "H-dAplDpCgWk"
      }
    },
    {
      "cell_type": "markdown",
      "source": [
        "$\\textbf{Whether the interaction device influences the player's experience} \\\\\\begin{array}{lrrl}\n",
        "\\hline\n",
        "            post\\_game &  f-stat &  p-value &  Significance \\\\\n",
        "\\hline\n",
        "  Positive\\_Experience &  1.5939 &   0.2067 &         False \\\\\n",
        "  Negative\\_Experience & 15.4485 &   0.0000 &          True \\\\\n",
        "            Tiredness &  1.2613 &   0.2864 &         False \\\\\n",
        " Returning\\_to\\_Reality &  6.5051 &   0.0020 &          True \\\\\n",
        "\\hline\n",
        "\\end{array}$\n"
      ],
      "metadata": {
        "id": "Jh1jiqMWauZW"
      }
    },
    {
      "cell_type": "markdown",
      "source": [
        "# 2. Whether player performance impacts the gaming experience\n",
        "\n",
        "**`Pearson method`**  \n",
        "\n",
        "Only in 3 cases (True Significance on table bellow) the  gamer performance did influence the post game experience.\n",
        "\n",
        "<br>\n",
        "\n",
        "$\\textbf{Pearson correlation, performance versus experience by device} \\\\\\begin{array}{llrrl}\n",
        "\\hline\n",
        "            post\\_game &    device &   Pearson &  p-value &  Significance \\\\\n",
        "\\hline\n",
        "  Positive\\_Experience &     skate &  0.327843 & 0.036392 &          True \\\\\n",
        "  Positive\\_Experience &  joystick & -0.099320 & 0.536694 &         False \\\\\n",
        "  Positive\\_Experience &  keyboard & -0.074157 & 0.653676 &         False \\\\\n",
        "  Negative\\_Experience &     skate & -0.073951 & 0.645874 &         False \\\\\n",
        "  Negative\\_Experience &  joystick &  0.384823 & 0.012978 &          True \\\\\n",
        "  Negative\\_Experience &  keyboard & -0.346538 & 0.030681 &          True \\\\\n",
        "            Tiredness &     skate &  0.281537 & 0.074548 &         False \\\\\n",
        "            Tiredness &  joystick &  0.252460 & 0.111282 &         False \\\\\n",
        "            Tiredness &  keyboard & -0.099879 & 0.545202 &         False \\\\\n",
        " Returning\\_to\\_Reality &     skate &  0.114988 & 0.474058 &         False \\\\\n",
        " Returning\\_to\\_Reality &  joystick &  0.084517 & 0.599320 &         False \\\\\n",
        " Returning\\_to\\_Reality &  keyboard & -0.098060 & 0.552581 &         False \\\\\n",
        "\\hline\n",
        "\\end{array}$\n",
        "\n",
        "<br>\n"
      ],
      "metadata": {
        "id": "6AVRxuvyeT3v"
      }
    },
    {
      "cell_type": "markdown",
      "source": [
        "# 3. Whether there is a difference between gender related to preference for the interaction device or challenge perception\n",
        "\n",
        "**`Chi-square method`** applied\n",
        "\n",
        "**Results**\n",
        "\n",
        "There is no evidence that gender influences both device preference or how challenging the gaming experience is.\n",
        "\n",
        "<br>\n",
        "\n",
        "$\\textbf{Whether there is a difference between gender related to preference for the interaction device or challenge perception} \\\\\\begin{array}{lrrl}\n",
        "\\hline\n",
        "                Related &   chi2 &  p-value &  Significance \\\\\n",
        "\\hline\n",
        "      device preference & 0.1583 &   0.9239 &         False \\\\\n",
        " challenging perception & 1.7865 &   0.4093 &         False \\\\\n",
        "\\hline\n",
        "\\end{array}\n",
        "$\n",
        "\n",
        "\n",
        "<br>\n",
        "\n",
        "(*warning*): There a more participant profiles (49) than valid preference answers (45). This results in only 44 match cases.\n",
        "\n",
        "<br>\n",
        "\n"
      ],
      "metadata": {
        "id": "SN0arSSUjaIn"
      }
    },
    {
      "cell_type": "markdown",
      "source": [
        "# 4. Whether the gender influences the player's experience\n",
        "\n",
        "**`ANOVA one-way method`** applied.\n",
        "\n",
        "**Results**\n",
        "\n",
        "There is no evidence that gender influences any post game experience.\n",
        "\n",
        "<br>\n",
        "\n",
        "$\\textbf{Whether there is a difference between gender related to preference for the interaction device or challenge perception} \\\\\\begin{array}{lrrl}\n",
        "\\hline\n",
        "            Post-game &  f-stat &  p-value &  Significance \\\\\n",
        "\\hline\n",
        "  Positive\\_Experience &  0.6051 &   0.4379 &         False \\\\\n",
        "  Negative\\_Experience &  0.3666 &   0.5458 &         False \\\\\n",
        "            Tiredness &  0.0001 &   0.9927 &         False \\\\\n",
        " Returning\\_to\\_Reality &  1.4255 &   0.2345 &         False \\\\\n",
        "\\hline\n",
        "\\end{array}$\n"
      ],
      "metadata": {
        "id": "C1SYIbxAMtNX"
      }
    }
  ]
}